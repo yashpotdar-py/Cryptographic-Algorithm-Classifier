{
 "cells": [
  {
   "cell_type": "code",
   "execution_count": 1,
   "id": "initial_id",
   "metadata": {
    "collapsed": true,
    "jupyter": {
     "is_executing": true
    }
   },
   "outputs": [],
   "source": [
    "import os\n",
    "import pandas as pd"
   ]
  },
  {
   "cell_type": "code",
   "execution_count": 2,
   "id": "719d9d2a836a2789",
   "metadata": {
    "jupyter": {
     "is_executing": true
    }
   },
   "outputs": [],
   "source": [
    "import warnings\n",
    "warnings.filterwarnings('ignore')"
   ]
  },
  {
   "cell_type": "code",
   "execution_count": 3,
   "id": "a1dba76772deb329",
   "metadata": {
    "jupyter": {
     "is_executing": true
    }
   },
   "outputs": [],
   "source": [
    "training_files = []\n",
    "testing_files = []\n",
    "\n",
    "for dirname, _, filenames in os.walk(\"../data/hash/train/\"):\n",
    "    for filename in filenames:\n",
    "        training_files.append(os.path.join(dirname, filename))\n",
    "\n",
    "for dirname, _, filenames in os.walk(\"../data/hash/test/\"):\n",
    "    for filename in filenames:    \n",
    "        testing_files.append(os.path.join(dirname, filename))"
   ]
  },
  {
   "cell_type": "code",
   "execution_count": 4,
   "id": "12ccba9307a34f35",
   "metadata": {},
   "outputs": [
    {
     "data": {
      "text/plain": [
       "(['../data/hash/train/hash_md5',\n",
       "  '../data/hash/train/hash_sha3_512',\n",
       "  '../data/hash/train/hash_sha512',\n",
       "  '../data/hash/train/hash_sha1',\n",
       "  '../data/hash/train/hash_mdc2',\n",
       "  '../data/hash/train/hash_sha224',\n",
       "  '../data/hash/train/hash_md4',\n",
       "  '../data/hash/train/hash_sha',\n",
       "  '../data/hash/train/hash_blake2s',\n",
       "  '../data/hash/train/hash_DSA-SHA (copy 1)',\n",
       "  '../data/hash/train/hash_DSA-SHA',\n",
       "  '../data/hash/train/hash_md4 (copy 1)',\n",
       "  '../data/hash/train/hash_md5 (copy 1)',\n",
       "  '../data/hash/train/hash_whirlpool (copy 1)',\n",
       "  '../data/hash/train/hash_ripemd160 (copy 1)',\n",
       "  '../data/hash/train/hash_mdc2 (copy 1)',\n",
       "  '../data/hash/train/hash_sha384 (copy 1)',\n",
       "  '../data/hash/train/hash_DSA (copy 1)',\n",
       "  '../data/hash/train/hash_ecdsa-with-SHA1 (copy 1)',\n",
       "  '../data/hash/train/hash_sha3_384 (copy 1)',\n",
       "  '../data/hash/train/hash_dsaEncryption',\n",
       "  '../data/hash/train/hash_sha3_256',\n",
       "  '../data/hash/train/hash_sha3_384',\n",
       "  '../data/hash/train/hash_sha (copy 1)',\n",
       "  '../data/hash/train/hash_sha3_512 (copy 1)',\n",
       "  '../data/hash/train/hash_blake2s (copy 1)',\n",
       "  '../data/hash/train/hash_sha256',\n",
       "  '../data/hash/train/hash_dsaWithSHA',\n",
       "  '../data/hash/train/hash_blake2b',\n",
       "  '../data/hash/train/hash_DSA',\n",
       "  '../data/hash/train/hash_blake2b (copy 1)',\n",
       "  '../data/hash/train/hash_sha384',\n",
       "  '../data/hash/train/hash_sha3_224',\n",
       "  '../data/hash/train/hash_sha256 (copy 1)',\n",
       "  '../data/hash/train/hash_sha224 (copy 1)',\n",
       "  '../data/hash/train/hash_sha512 (copy 1)',\n",
       "  '../data/hash/train/hash_dsaEncryption (copy 1)',\n",
       "  '../data/hash/train/hash_sha3_256 (copy 1)',\n",
       "  '../data/hash/train/hash_ecdsa-with-SHA1',\n",
       "  '../data/hash/train/hash_dsaWithSHA (copy 1)',\n",
       "  '../data/hash/train/hash_whirlpool',\n",
       "  '../data/hash/train/hash_sha3_224 (copy 1)',\n",
       "  '../data/hash/train/hash_ripemd160',\n",
       "  '../data/hash/train/hash_sha1 (copy 1)'],\n",
       " ['../data/hash/test/hash_md5',\n",
       "  '../data/hash/test/hash_sha3_512',\n",
       "  '../data/hash/test/hash_sha512',\n",
       "  '../data/hash/test/hash_sha1',\n",
       "  '../data/hash/test/hash_mdc2',\n",
       "  '../data/hash/test/hash_sha224',\n",
       "  '../data/hash/test/hash_md4',\n",
       "  '../data/hash/test/hash_sha',\n",
       "  '../data/hash/test/hash_blake2s',\n",
       "  '../data/hash/test/hash_DSA-SHA (copy 1)',\n",
       "  '../data/hash/test/hash_DSA-SHA',\n",
       "  '../data/hash/test/hash_md4 (copy 1)',\n",
       "  '../data/hash/test/hash_md5 (copy 1)',\n",
       "  '../data/hash/test/hash_whirlpool (copy 1)',\n",
       "  '../data/hash/test/hash_ripemd160 (copy 1)',\n",
       "  '../data/hash/test/hash_mdc2 (copy 1)',\n",
       "  '../data/hash/test/hash_sha384 (copy 1)',\n",
       "  '../data/hash/test/hash_DSA (copy 1)',\n",
       "  '../data/hash/test/hash_ecdsa-with-SHA1 (copy 1)',\n",
       "  '../data/hash/test/hash_sha3_384 (copy 1)',\n",
       "  '../data/hash/test/hash_dsaEncryption',\n",
       "  '../data/hash/test/hash_sha3_256',\n",
       "  '../data/hash/test/hash_sha3_384',\n",
       "  '../data/hash/test/hash_sha (copy 1)',\n",
       "  '../data/hash/test/hash_sha3_512 (copy 1)',\n",
       "  '../data/hash/test/hash_blake2s (copy 1)',\n",
       "  '../data/hash/test/hash_sha256',\n",
       "  '../data/hash/test/hash_dsaWithSHA',\n",
       "  '../data/hash/test/hash_blake2b',\n",
       "  '../data/hash/test/hash_DSA',\n",
       "  '../data/hash/test/hash_blake2b (copy 1)',\n",
       "  '../data/hash/test/hash_sha384',\n",
       "  '../data/hash/test/hash_sha3_224',\n",
       "  '../data/hash/test/hash_sha256 (copy 1)',\n",
       "  '../data/hash/test/hash_sha224 (copy 1)',\n",
       "  '../data/hash/test/hash_sha512 (copy 1)',\n",
       "  '../data/hash/test/hash_dsaEncryption (copy 1)',\n",
       "  '../data/hash/test/hash_sha3_256 (copy 1)',\n",
       "  '../data/hash/test/hash_ecdsa-with-SHA1',\n",
       "  '../data/hash/test/hash_dsaWithSHA (copy 1)',\n",
       "  '../data/hash/test/hash_whirlpool',\n",
       "  '../data/hash/test/hash_sha3_224 (copy 1)',\n",
       "  '../data/hash/test/hash_ripemd160',\n",
       "  '../data/hash/test/hash_sha1 (copy 1)'])"
      ]
     },
     "execution_count": 4,
     "metadata": {},
     "output_type": "execute_result"
    }
   ],
   "source": [
    "training_files, testing_files"
   ]
  },
  {
   "cell_type": "code",
   "execution_count": null,
   "id": "41970060",
   "metadata": {},
   "outputs": [],
   "source": []
  },
  {
   "cell_type": "code",
   "execution_count": null,
   "id": "c3fac46c",
   "metadata": {},
   "outputs": [],
   "source": []
  }
 ],
 "metadata": {
  "kernelspec": {
   "display_name": "Python 3",
   "language": "python",
   "name": "python3"
  },
  "language_info": {
   "codemirror_mode": {
    "name": "ipython",
    "version": 3
   },
   "file_extension": ".py",
   "mimetype": "text/x-python",
   "name": "python",
   "nbconvert_exporter": "python",
   "pygments_lexer": "ipython3",
   "version": "3.12.4"
  }
 },
 "nbformat": 4,
 "nbformat_minor": 5
}
